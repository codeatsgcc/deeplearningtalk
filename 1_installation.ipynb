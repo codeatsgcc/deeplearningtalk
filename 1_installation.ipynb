{
 "cells": [
  {
   "cell_type": "markdown",
   "metadata": {},
   "source": [
    "# Installing Keras and TensorFlow on OSX\n",
    "\n",
    "## References\n",
    "- [Installing Keras on Mac OS (High Sierra and below), Python 3.4-3.6](https://www.pyimagesearch.com/2017/09/29/macos-for-deep-learning-with-python-tensorflow-and-keras/)\n",
    "- [Troubleshooting the loading of datasets from Keras](https://github.com/keras-team/keras/issues/1425)\n",
    "- [Francois Chollet on Running Keras from AWS](https://blog.keras.io/running-jupyter-notebooks-on-gpu-on-aws-a-starter-guide.html)\n",
    "- [Jupyter Notebook tutorial from DataCamp](https://www.datacamp.com/community/tutorials/tutorial-jupyter-notebook)"
   ]
  },
  {
   "cell_type": "markdown",
   "metadata": {},
   "source": [
    "## Steps\n",
    "\n",
    "1. First, install Python 3.6 on your machine by following the instructions on the [offical Python website](https://www.python.org/downloads/release/python-367/). Note that Keras will not run on the current version of Python (version 3.7); you must install a version of Python between 3.4 and 3.6  \n",
    "2. Next, download the Mac package manager `Homebrew` by following the instructions on the [Homebrew website](https://brew.sh/). When this is done, the `brew` command will be available in `Terminal`, allowing you to install the packages available on the Homebrew repository\n",
    "3. Open up the `Terminal` application on your Mac and enter the following commands into your Terminal window. These commands install:\n",
    "    - the `graphviz` library to allow for the visualisation of graph/networks\n",
    "    - the Python packages `virtualenv` and `virtualenvwrapper` which allows for the organisation of the packages and dependencies needed to run Keras\n",
    "    "
   ]
  },
  {
   "cell_type": "markdown",
   "metadata": {},
   "source": [
    "```bash\n",
    "# Terminal commands to install python and virtualenv\n",
    "# Note that `$` is the command prompt. \n",
    "# DON'T COPY THIS CHARACTER WHEN YOU COPY THE COMMANDS BELOW\n",
    "$ brew install graphviz\n",
    "$ pip3 install virtualenv virtualenvwrapper\n",
    "\n",
    "```"
   ]
  },
  {
   "cell_type": "markdown",
   "metadata": {},
   "source": [
    "4. Find out the location of your Python installation by running the following `Terminal` command. Take note of this location as we will use it in the next step. Note that in my case, the `Terminal` is indicating that the system path along which my Python 3 installation can be found is **`/Library/Frameworks/Python.framework/Versions/3.6/bin/python3`**. Also take note of its **parent path** **`/Library/Frameworks/Python.framework/Versions/3.6/bin`**. Note that these paths might be different for you when you run the `which` command   "
   ]
  },
  {
   "cell_type": "markdown",
   "metadata": {},
   "source": [
    "```bash\n",
    "$ which python3\n",
    "> /Library/Frameworks/Python.framework/Versions/3.6/bin/python3\n",
    "```"
   ]
  },
  {
   "cell_type": "markdown",
   "metadata": {},
   "source": [
    "5. Edit the file found at `~/.bash_profile`. This step is necessary for `virtualenv` and `virtualenvwrapper` to run correctly. You can use any code editor such as [Visual Studio Code](https://code.visualstudio.com/) or [Sublime Text](https://www.sublimetext.com/) to do this"
   ]
  },
  {
   "cell_type": "markdown",
   "metadata": {},
   "source": [
    "```bash\n",
    "# edit the file ~/.bash_profile\n",
    "\n",
    "# use the path for your Python3 installation found in step 4 here \n",
    "# to set the VIRTUALENVWRAPPER_PYTHON variable\n",
    "export VIRTUALENVWRAPPER_PYTHON=/Library/Frameworks/Python.framework/Versions/3.6/bin/python3\n",
    "\n",
    "# use the parent path found in step 4 here to set the PYTHONBIN variable\n",
    "export PYTHONBIN=/Library/Frameworks/Python.framework/Versions/3.6/bin\n",
    "\n",
    "source $PYTHONBIN/virtualenvwrapper.sh\n",
    "```"
   ]
  },
  {
   "cell_type": "markdown",
   "metadata": {},
   "source": [
    "6. Load the edited `.bash_profile` filed in `Terminal` to pick up the file edits"
   ]
  },
  {
   "cell_type": "markdown",
   "metadata": {},
   "source": [
    "```bash\n",
    "$ source ~/.bash_profile\n",
    "```"
   ]
  },
  {
   "cell_type": "markdown",
   "metadata": {},
   "source": [
    "7. Create a virtual environment named `dlpy` (you can use any name you wish but I have chosen `dlpy` to represent \"Deep Learning Python\")"
   ]
  },
  {
   "cell_type": "markdown",
   "metadata": {},
   "source": [
    "```bash\n",
    "# make a new virtual environment named `dlpy`\n",
    "$ mkvirtualenv dlpy -p python3\n",
    "\n",
    "# if the command above succeeds, your command prompt should now display differently, \n",
    "# indicating that the `dlpy` virtual environment is now active in your Terminal \n",
    "# session as shown below\n",
    "# Mine has changed from `$` (might be different for you) to `(dlpy)`\n",
    "(dlpy)\n",
    "```"
   ]
  },
  {
   "cell_type": "markdown",
   "metadata": {},
   "source": [
    "8. Install the Python 3 packages you need to run Deep Learning models on your computer by entering the following command into Terminal:"
   ]
  },
  {
   "cell_type": "markdown",
   "metadata": {},
   "source": [
    "```bash\n",
    "# install python modules for deep learning to this virtual environment\n",
    "(dlpy) pip3 install numpy scipy matplotlib h5py pydot-ng tensorflow keras \n",
    "        jupyter scikit-learn seaborn\n",
    "```"
   ]
  },
  {
   "cell_type": "markdown",
   "metadata": {},
   "source": [
    "9. Start the `Jupyter` notebook by entering the following command into `Terminal`. Entering the keyboard command <kbd>control</kbd>-<kbd>C</kbd> in the `Terminal` closes the Jupyter Notebook"
   ]
  },
  {
   "cell_type": "markdown",
   "metadata": {},
   "source": [
    "```bash\n",
    "# Start Jupyter notebook. Change the string \"dlpy\" if you have  \n",
    "# chosen another name for your Python3 virtual environment\n",
    "(dlpy) ~/.virtualenvs/dlpy/bin/jupyter-notebook\n",
    "```"
   ]
  },
  {
   "cell_type": "markdown",
   "metadata": {},
   "source": [
    "10. To deactivate the virtual environment `dlpy` after you are done, enter the `Terminal` command below: "
   ]
  },
  {
   "cell_type": "markdown",
   "metadata": {},
   "source": [
    "```bash\n",
    "# to deactivate the `dlpy` virtual environment\n",
    "(dlpy) deactivate\n",
    "\n",
    "# to reactivate the `dlpy` virtual environment when you need to \n",
    "# install other Python 3 packages/modules to this environment\n",
    "$ workon dlpy\n",
    "```"
   ]
  },
  {
   "cell_type": "markdown",
   "metadata": {},
   "source": [
    "11. To start up Jupyter Notebook using Python3 within the `dlpy` environment where you have installed `Keras` and its dependencies from Step 8, simply navigate to the system path where you have your previous work (`.ipynb` files stored) and rerun the following command from Step 9. You should now be able to run the Jupyter notebooks from the Deep Learning talk given at WorkCentral on 16 Feb 2019."
   ]
  },
  {
   "cell_type": "markdown",
   "metadata": {},
   "source": [
    "```bash\n",
    "$ ~/.virtualenvs/dlpy/bin/jupyter-notebook\n",
    "```"
   ]
  }
 ],
 "metadata": {
  "kernelspec": {
   "display_name": "Python 3",
   "language": "python",
   "name": "python3"
  },
  "language_info": {
   "codemirror_mode": {
    "name": "ipython",
    "version": 3
   },
   "file_extension": ".py",
   "mimetype": "text/x-python",
   "name": "python",
   "nbconvert_exporter": "python",
   "pygments_lexer": "ipython3",
   "version": "3.6.6"
  }
 },
 "nbformat": 4,
 "nbformat_minor": 2
}
